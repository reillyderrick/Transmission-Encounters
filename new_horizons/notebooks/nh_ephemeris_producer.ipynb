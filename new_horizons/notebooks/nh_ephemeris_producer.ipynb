{
 "cells": [
  {
   "cell_type": "code",
   "execution_count": 1,
   "metadata": {},
   "outputs": [],
   "source": [
    "from astroquery.jplhorizons import Horizons\n",
    "import pandas as pd"
   ]
  },
  {
   "cell_type": "code",
   "execution_count": 14,
   "metadata": {},
   "outputs": [
    {
     "name": "stdout",
     "output_type": "stream",
     "text": [
      "Empty DataFrame\n",
      "Columns: [datetime_str, RA, DEC]\n",
      "Index: []\n"
     ]
    }
   ],
   "source": [
    "df = pd.DataFrame(columns = ['datetime_str', 'RA', 'DEC'])\n",
    "print(df)"
   ]
  },
  {
   "cell_type": "code",
   "execution_count": 15,
   "metadata": {},
   "outputs": [
    {
     "name": "stdout",
     "output_type": "stream",
     "text": [
      "                datetime_str         RA       DEC  \\\n",
      "0   2006-Jan-20 00:00:00.000  207.08781 -10.02864   \n",
      "1   2006-Jan-20 00:13:54.276  207.19701  -9.97212   \n",
      "2   2006-Jan-20 00:29:30.543  207.30739  -9.91493   \n",
      "3   2006-Jan-20 00:46:49.544  207.41706  -9.85803   \n",
      "4   2006-Jan-20 01:06:09.506  207.52607  -9.80141   \n",
      "..                       ...        ...       ...   \n",
      "16  2023-Dec-14 22:13:06.195  288.65950 -20.35946   \n",
      "17  2023-Dec-22 18:42:22.753  288.79828 -20.34420   \n",
      "18  2023-Dec-30 06:38:08.193  288.93554 -20.32838   \n",
      "19  2024-Jan-06 13:46:45.013  289.07162 -20.31203   \n",
      "20  2024-Jan-13 18:57:56.289  289.20656 -20.29517   \n",
      "\n",
      "                         targetname   datetime_jd solar_presence flags  \n",
      "0   New Horizons (spacecraft) (-98)  2.453756e+06                       \n",
      "1   New Horizons (spacecraft) (-98)  2.453756e+06                       \n",
      "2   New Horizons (spacecraft) (-98)  2.453756e+06                       \n",
      "3   New Horizons (spacecraft) (-98)  2.453756e+06                       \n",
      "4   New Horizons (spacecraft) (-98)  2.453756e+06                       \n",
      "..                              ...           ...            ...   ...  \n",
      "16  New Horizons (spacecraft) (-98)  2.460293e+06                       \n",
      "17  New Horizons (spacecraft) (-98)  2.460301e+06                       \n",
      "18  New Horizons (spacecraft) (-98)  2.460309e+06                       \n",
      "19  New Horizons (spacecraft) (-98)  2.460316e+06                       \n",
      "20  New Horizons (spacecraft) (-98)  2.460323e+06                       \n",
      "\n",
      "[1837 rows x 7 columns]\n"
     ]
    }
   ],
   "source": [
    "for i in range(18):\n",
    "    obj = Horizons(id=\"horizons\", id_type='majorbody',\n",
    "               epochs={'start':str(2006+i) + '-01-20', 'stop':str(2007+i) + '-01-20',\n",
    "                       'step':'VAR 460'})\n",
    "    \n",
    "    eph = obj.ephemerides(quantities=1)\n",
    "    \n",
    "    df = df.append(eph.to_pandas())\n",
    "\n",
    "print(df)"
   ]
  },
  {
   "cell_type": "code",
   "execution_count": 16,
   "metadata": {},
   "outputs": [],
   "source": [
    "obj = Horizons(id=\"horizons\", id_type='majorbody',\n",
    "               epochs={'start':'2024-01-20', 'stop':'2024-12-31',\n",
    "                       'step':'VAR 460'})\n",
    "\n",
    "eph = obj.ephemerides(quantities=1)\n",
    "    \n",
    "df = df.append(eph.to_pandas())"
   ]
  },
  {
   "cell_type": "code",
   "execution_count": 17,
   "metadata": {},
   "outputs": [
    {
     "name": "stdout",
     "output_type": "stream",
     "text": [
      "                        date         ra       dec\n",
      "0   2006-Jan-20 00:00:00.000  207.08781 -10.02864\n",
      "1   2006-Jan-20 00:13:54.276  207.19701  -9.97212\n",
      "2   2006-Jan-20 00:29:30.543  207.30739  -9.91493\n",
      "3   2006-Jan-20 00:46:49.544  207.41706  -9.85803\n",
      "4   2006-Jan-20 01:06:09.506  207.52607  -9.80141\n",
      "..                       ...        ...       ...\n",
      "18  2024-Aug-12 21:40:26.760  288.70597 -20.29126\n",
      "19  2024-Aug-22 15:57:34.445  288.58007 -20.30985\n",
      "20  2024-Sep-02 22:09:23.605  288.45960 -20.32905\n",
      "21  2024-Sep-17 05:18:42.993  288.35209 -20.34893\n",
      "22  2024-Oct-11 00:15:46.947  288.30129 -20.36808\n",
      "\n",
      "[1860 rows x 3 columns]\n"
     ]
    }
   ],
   "source": [
    "df = df.drop(['targetname', 'datetime_jd', 'solar_presence', 'flags'], axis = 1)\n",
    "df = df.rename(columns={\"datetime_str\": \"date\", \"RA\": \"ra\", \"DEC\": \"dec\"})\n",
    "print(df)"
   ]
  },
  {
   "cell_type": "code",
   "execution_count": 18,
   "metadata": {},
   "outputs": [],
   "source": [
    "df.to_csv('nh_ephemeris.csv')"
   ]
  },
  {
   "cell_type": "code",
   "execution_count": null,
   "metadata": {},
   "outputs": [],
   "source": []
  }
 ],
 "metadata": {
  "kernelspec": {
   "display_name": "Python 3",
   "language": "python",
   "name": "python3"
  },
  "language_info": {
   "codemirror_mode": {
    "name": "ipython",
    "version": 3
   },
   "file_extension": ".py",
   "mimetype": "text/x-python",
   "name": "python",
   "nbconvert_exporter": "python",
   "pygments_lexer": "ipython3",
   "version": "3.8.5"
  }
 },
 "nbformat": 4,
 "nbformat_minor": 4
}
