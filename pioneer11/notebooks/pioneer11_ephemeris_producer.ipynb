{
 "cells": [
  {
   "cell_type": "code",
   "execution_count": 1,
   "metadata": {},
   "outputs": [],
   "source": [
    "from astroquery.jplhorizons import Horizons\n",
    "import pandas as pd"
   ]
  },
  {
   "cell_type": "code",
   "execution_count": 8,
   "metadata": {},
   "outputs": [
    {
     "name": "stdout",
     "output_type": "stream",
     "text": [
      "Empty DataFrame\n",
      "Columns: [datetime_str, RA, DEC]\n",
      "Index: []\n"
     ]
    }
   ],
   "source": [
    "df = pd.DataFrame(columns = ['datetime_str', 'RA', 'DEC'])\n",
    "print(df)"
   ]
  },
  {
   "cell_type": "code",
   "execution_count": 9,
   "metadata": {},
   "outputs": [
    {
     "name": "stdout",
     "output_type": "stream",
     "text": [
      "                datetime_str         RA       DEC  \\\n",
      "0   1973-Apr-07 00:00:00.000  290.69755 -34.80406   \n",
      "1   1973-Apr-07 03:39:19.268  290.83081 -34.80316   \n",
      "2   1973-Apr-07 08:38:22.160  290.96087 -34.80213   \n",
      "3   1973-Apr-07 15:46:34.986  291.08670 -34.80097   \n",
      "4   1973-Apr-08 02:41:48.882  291.20674 -34.79963   \n",
      "..                       ...        ...       ...   \n",
      "42  1995-Feb-15 02:37:24.577  273.22936  -8.12449   \n",
      "43  1995-Feb-22 09:17:14.501  273.34460  -8.08731   \n",
      "44  1995-Mar-02 16:24:37.133  273.45351  -8.04189   \n",
      "45  1995-Mar-12 16:03:40.262  273.55036  -7.98433   \n",
      "46  1995-Mar-25 21:08:27.583  273.61844  -7.90623   \n",
      "\n",
      "                       targetname   datetime_jd solar_presence flags  \n",
      "0   Pioneer 11 (spacecraft) (-24)  2.441780e+06                       \n",
      "1   Pioneer 11 (spacecraft) (-24)  2.441780e+06                       \n",
      "2   Pioneer 11 (spacecraft) (-24)  2.441780e+06                       \n",
      "3   Pioneer 11 (spacecraft) (-24)  2.441780e+06                       \n",
      "4   Pioneer 11 (spacecraft) (-24)  2.441781e+06                       \n",
      "..                            ...           ...            ...   ...  \n",
      "42  Pioneer 11 (spacecraft) (-24)  2.449764e+06                       \n",
      "43  Pioneer 11 (spacecraft) (-24)  2.449771e+06                       \n",
      "44  Pioneer 11 (spacecraft) (-24)  2.449779e+06                       \n",
      "45  Pioneer 11 (spacecraft) (-24)  2.449789e+06                       \n",
      "46  Pioneer 11 (spacecraft) (-24)  2.449802e+06                       \n",
      "\n",
      "[4631 rows x 7 columns]\n"
     ]
    }
   ],
   "source": [
    "for i in range(22):\n",
    "    obj = Horizons(id=\"-24\", id_type='majorbody',\n",
    "               epochs={'start':str(1973+i) + '-04-07', 'stop':str(1974+i) + '-04-07',\n",
    "                       'step':'VAR 460'})\n",
    "    \n",
    "    eph = obj.ephemerides(quantities=1)\n",
    "    \n",
    "    df = df.append(eph.to_pandas())\n",
    "\n",
    "print(df)"
   ]
  },
  {
   "cell_type": "code",
   "execution_count": 10,
   "metadata": {},
   "outputs": [],
   "source": [
    "obj = Horizons(id=\"-24\", id_type='majorbody',\n",
    "               epochs={'start':'1995-04-07', 'stop':'1995-09-30',\n",
    "                       'step':'VAR 460'})\n",
    "\n",
    "eph = obj.ephemerides(quantities=1)\n",
    "    \n",
    "df = df.append(eph.to_pandas())"
   ]
  },
  {
   "cell_type": "code",
   "execution_count": 11,
   "metadata": {},
   "outputs": [
    {
     "name": "stdout",
     "output_type": "stream",
     "text": [
      "                        date         ra       dec\n",
      "0   1973-Apr-07 00:00:00.000  290.69755 -34.80406\n",
      "1   1973-Apr-07 03:39:19.268  290.83081 -34.80316\n",
      "2   1973-Apr-07 08:38:22.160  290.96087 -34.80213\n",
      "3   1973-Apr-07 15:46:34.986  291.08670 -34.80097\n",
      "4   1973-Apr-08 02:41:48.882  291.20674 -34.79963\n",
      "..                       ...        ...       ...\n",
      "14  1995-Aug-02 20:56:05.928  271.80979  -7.70790\n",
      "15  1995-Aug-11 05:56:14.348  271.69563  -7.74700\n",
      "16  1995-Aug-20 20:24:23.880  271.58990  -7.79723\n",
      "17  1995-Sep-01 13:57:14.840  271.50209  -7.86460\n",
      "18  1995-Sep-17 12:39:19.441  271.46289  -7.96220\n",
      "\n",
      "[4650 rows x 3 columns]\n"
     ]
    }
   ],
   "source": [
    "df = df.drop(['targetname', 'datetime_jd', 'solar_presence', 'flags'], axis = 1)\n",
    "df = df.rename(columns={\"datetime_str\": \"date\", \"RA\": \"ra\", \"DEC\": \"dec\"})\n",
    "print(df)"
   ]
  },
  {
   "cell_type": "code",
   "execution_count": 13,
   "metadata": {},
   "outputs": [],
   "source": [
    "df.to_csv('pio11_ephemeris.csv')"
   ]
  }
 ],
 "metadata": {
  "kernelspec": {
   "display_name": "Python 3",
   "language": "python",
   "name": "python3"
  },
  "language_info": {
   "codemirror_mode": {
    "name": "ipython",
    "version": 3
   },
   "file_extension": ".py",
   "mimetype": "text/x-python",
   "name": "python",
   "nbconvert_exporter": "python",
   "pygments_lexer": "ipython3",
   "version": "3.8.5"
  }
 },
 "nbformat": 4,
 "nbformat_minor": 4
}
