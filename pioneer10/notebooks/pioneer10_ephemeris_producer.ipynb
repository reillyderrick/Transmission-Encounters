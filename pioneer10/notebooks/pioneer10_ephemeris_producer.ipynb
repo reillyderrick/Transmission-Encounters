{
 "cells": [
  {
   "cell_type": "code",
   "execution_count": 14,
   "metadata": {},
   "outputs": [],
   "source": [
    "from astroquery.jplhorizons import Horizons\n",
    "import pandas as pd"
   ]
  },
  {
   "cell_type": "code",
   "execution_count": 15,
   "metadata": {},
   "outputs": [
    {
     "name": "stdout",
     "output_type": "stream",
     "text": [
      "Empty DataFrame\n",
      "Columns: [datetime_str, RA, DEC]\n",
      "Index: []\n"
     ]
    }
   ],
   "source": [
    "df = pd.DataFrame(columns = ['datetime_str', 'RA', 'DEC'])\n",
    "print(df)"
   ]
  },
  {
   "cell_type": "code",
   "execution_count": 16,
   "metadata": {},
   "outputs": [
    {
     "name": "stdout",
     "output_type": "stream",
     "text": [
      "                datetime_str         RA       DEC  \\\n",
      "0   1972-Mar-04 00:00:00.000  246.80935 -30.75413   \n",
      "1   1972-Mar-04 03:39:27.015  246.93610 -30.76865   \n",
      "2   1972-Mar-04 08:36:11.068  247.06011 -30.78274   \n",
      "3   1972-Mar-04 15:35:33.602  247.18058 -30.79634   \n",
      "4   1972-Mar-05 02:03:50.743  247.29634 -30.80933   \n",
      "..                       ...        ...       ...   \n",
      "7   2001-Dec-24 14:28:10.727   75.64373  25.86666   \n",
      "8   2002-Jan-04 13:06:47.362   75.50797  25.85162   \n",
      "9   2002-Jan-16 10:21:06.533   75.37655  25.83516   \n",
      "10  2002-Jan-30 05:24:30.426   75.25295  25.81699   \n",
      "11  2002-Feb-17 10:59:33.800   75.14874  25.79640   \n",
      "\n",
      "                       targetname   datetime_jd solar_presence flags  \n",
      "0   Pioneer 10 (spacecraft) (-23)  2.441380e+06                       \n",
      "1   Pioneer 10 (spacecraft) (-23)  2.441381e+06                       \n",
      "2   Pioneer 10 (spacecraft) (-23)  2.441381e+06                       \n",
      "3   Pioneer 10 (spacecraft) (-23)  2.441381e+06                       \n",
      "4   Pioneer 10 (spacecraft) (-23)  2.441382e+06                       \n",
      "..                            ...           ...            ...   ...  \n",
      "7   Pioneer 10 (spacecraft) (-23)  2.452268e+06                       \n",
      "8   Pioneer 10 (spacecraft) (-23)  2.452279e+06                       \n",
      "9   Pioneer 10 (spacecraft) (-23)  2.452291e+06                       \n",
      "10  Pioneer 10 (spacecraft) (-23)  2.452305e+06                       \n",
      "11  Pioneer 10 (spacecraft) (-23)  2.452323e+06                       \n",
      "\n",
      "[3034 rows x 7 columns]\n"
     ]
    }
   ],
   "source": [
    "for i in range(30):\n",
    "    obj = Horizons(id=\"-23\", id_type='majorbody',\n",
    "               epochs={'start':str(1972+i) + '-03-04', 'stop':str(1973+i) + '-03-04',\n",
    "                       'step':'VAR 460'})\n",
    "    \n",
    "    eph = obj.ephemerides(quantities=1)\n",
    "    \n",
    "    df = df.append(eph.to_pandas())\n",
    "\n",
    "print(df)"
   ]
  },
  {
   "cell_type": "code",
   "execution_count": 17,
   "metadata": {},
   "outputs": [],
   "source": [
    "obj = Horizons(id=\"-23\", id_type='majorbody',\n",
    "               epochs={'start':'2002-03-04', 'stop':'2003-01-22',\n",
    "                       'step':'VAR 460'})\n",
    "\n",
    "eph = obj.ephemerides(quantities=1)\n",
    "    \n",
    "df = df.append(eph.to_pandas())"
   ]
  },
  {
   "cell_type": "code",
   "execution_count": 18,
   "metadata": {},
   "outputs": [
    {
     "name": "stdout",
     "output_type": "stream",
     "text": [
      "                        date         ra       dec\n",
      "0   1972-Mar-04 00:00:00.000  246.80935 -30.75413\n",
      "1   1972-Mar-04 03:39:27.015  246.93610 -30.76865\n",
      "2   1972-Mar-04 08:36:11.068  247.06011 -30.78274\n",
      "3   1972-Mar-04 15:35:33.602  247.18058 -30.79634\n",
      "4   1972-Mar-05 02:03:50.743  247.29634 -30.80933\n",
      "..                       ...        ...       ...\n",
      "5   2002-Nov-27 14:58:14.767   76.23570  25.91528\n",
      "6   2002-Dec-08 16:23:12.817   76.09205  25.90360\n",
      "7   2002-Dec-19 11:45:12.663   75.95159  25.89067\n",
      "8   2002-Dec-30 11:54:11.621   75.81409  25.87648\n",
      "9   2003-Jan-11 04:07:27.709   75.68049  25.86096\n",
      "\n",
      "[3044 rows x 3 columns]\n"
     ]
    }
   ],
   "source": [
    "df = df.drop(['targetname', 'datetime_jd', 'solar_presence', 'flags'], axis = 1)\n",
    "df = df.rename(columns={\"datetime_str\": \"date\", \"RA\": \"ra\", \"DEC\": \"dec\"})\n",
    "print(df)"
   ]
  },
  {
   "cell_type": "code",
   "execution_count": 19,
   "metadata": {},
   "outputs": [],
   "source": [
    "df.to_csv('pio10_ephemeris.csv')"
   ]
  }
 ],
 "metadata": {
  "kernelspec": {
   "display_name": "Python 3",
   "language": "python",
   "name": "python3"
  },
  "language_info": {
   "codemirror_mode": {
    "name": "ipython",
    "version": 3
   },
   "file_extension": ".py",
   "mimetype": "text/x-python",
   "name": "python",
   "nbconvert_exporter": "python",
   "pygments_lexer": "ipython3",
   "version": "3.8.5"
  }
 },
 "nbformat": 4,
 "nbformat_minor": 4
}
