{
 "cells": [
  {
   "cell_type": "code",
   "execution_count": 31,
   "metadata": {
    "scrolled": true
   },
   "outputs": [],
   "source": [
    "from __future__ import division #always returns approximations from divisions\n",
    "import numpy as np\n",
    "import matplotlib.pyplot as plt\n",
    "import ephem #for astronomy calculations, converting coordinate systems\n",
    "import pandas as pd\n",
    "from astroquery.gaia import Gaia"
   ]
  },
  {
   "cell_type": "code",
   "execution_count": 32,
   "metadata": {},
   "outputs": [
    {
     "name": "stdout",
     "output_type": "stream",
     "text": [
      "                  date na1 na2         ra       dec  Unnamed: 5\n",
      "0    2006-Jan-20 00:00          207.08781 -10.02864         NaN\n",
      "1    2006-Apr-20 00:00          193.72256  -3.77013         NaN\n",
      "2    2006-Jul-20 00:00          205.15145  -9.49166         NaN\n",
      "3    2006-Oct-20 00:00          229.81708 -17.67692         NaN\n",
      "4    2007-Jan-20 00:00          251.79649 -21.74582         NaN\n",
      "..                 ...  ..  ..        ...       ...         ...\n",
      "71   2023-Oct-20 00:00          288.01237 -20.41163         NaN\n",
      "72   2024-Jan-20 00:00          289.32139 -20.28031         NaN\n",
      "73   2024-Apr-20 00:00          290.20192 -20.12720         NaN\n",
      "74   2024-Jul-20 00:00          289.07403 -20.24147         NaN\n",
      "75   2024-Oct-20 00:00          288.32583 -20.37018         NaN\n",
      "\n",
      "[76 rows x 6 columns]\n"
     ]
    }
   ],
   "source": [
    "v_df = pd.read_csv('nh_ephemeris_3mon.txt', skiprows = 35, skipfooter=164-113, engine='python') # df of info about new horizon's position\n",
    "s_df = pd.DataFrame(columns = ['source_id', 'g_abs', 'bp_rp', 'parallax', 'dist']) # df of info about stars\n",
    "\n",
    "print(v_df)"
   ]
  },
  {
   "cell_type": "code",
   "execution_count": 33,
   "metadata": {
    "scrolled": false
   },
   "outputs": [
    {
     "name": "stdout",
     "output_type": "stream",
     "text": [
      "INFO: Query finished. [astroquery.utils.tap.core]\n",
      "INFO: Query finished. [astroquery.utils.tap.core]\n",
      "INFO: Query finished. [astroquery.utils.tap.core]\n",
      "INFO: Query finished. [astroquery.utils.tap.core]\n",
      "INFO: Query finished. [astroquery.utils.tap.core]\n",
      "INFO: Query finished. [astroquery.utils.tap.core]\n",
      "INFO: Query finished. [astroquery.utils.tap.core]\n",
      "INFO: Query finished. [astroquery.utils.tap.core]\n",
      "INFO: Query finished. [astroquery.utils.tap.core]\n",
      "INFO: Query finished. [astroquery.utils.tap.core]\n",
      "INFO: Query finished. [astroquery.utils.tap.core]\n",
      "INFO: Query finished. [astroquery.utils.tap.core]\n",
      "INFO: Query finished. [astroquery.utils.tap.core]\n",
      "INFO: Query finished. [astroquery.utils.tap.core]\n",
      "INFO: Query finished. [astroquery.utils.tap.core]\n",
      "INFO: Query finished. [astroquery.utils.tap.core]\n",
      "INFO: Query finished. [astroquery.utils.tap.core]\n",
      "INFO: Query finished. [astroquery.utils.tap.core]\n",
      "INFO: Query finished. [astroquery.utils.tap.core]\n",
      "INFO: Query finished. [astroquery.utils.tap.core]\n",
      "INFO: Query finished. [astroquery.utils.tap.core]\n",
      "INFO: Query finished. [astroquery.utils.tap.core]\n",
      "INFO: Query finished. [astroquery.utils.tap.core]\n",
      "INFO: Query finished. [astroquery.utils.tap.core]\n",
      "INFO: Query finished. [astroquery.utils.tap.core]\n",
      "INFO: Query finished. [astroquery.utils.tap.core]\n",
      "INFO: Query finished. [astroquery.utils.tap.core]\n",
      "INFO: Query finished. [astroquery.utils.tap.core]\n",
      "INFO: Query finished. [astroquery.utils.tap.core]\n",
      "INFO: Query finished. [astroquery.utils.tap.core]\n",
      "INFO: Query finished. [astroquery.utils.tap.core]\n",
      "INFO: Query finished. [astroquery.utils.tap.core]\n",
      "INFO: Query finished. [astroquery.utils.tap.core]\n",
      "INFO: Query finished. [astroquery.utils.tap.core]\n",
      "INFO: Query finished. [astroquery.utils.tap.core]\n",
      "INFO: Query finished. [astroquery.utils.tap.core]\n",
      "INFO: Query finished. [astroquery.utils.tap.core]\n",
      "INFO: Query finished. [astroquery.utils.tap.core]\n",
      "INFO: Query finished. [astroquery.utils.tap.core]\n",
      "INFO: Query finished. [astroquery.utils.tap.core]\n",
      "INFO: Query finished. [astroquery.utils.tap.core]\n",
      "INFO: Query finished. [astroquery.utils.tap.core]\n",
      "INFO: Query finished. [astroquery.utils.tap.core]\n",
      "INFO: Query finished. [astroquery.utils.tap.core]\n",
      "INFO: Query finished. [astroquery.utils.tap.core]\n",
      "INFO: Query finished. [astroquery.utils.tap.core]\n",
      "INFO: Query finished. [astroquery.utils.tap.core]\n",
      "INFO: Query finished. [astroquery.utils.tap.core]\n",
      "INFO: Query finished. [astroquery.utils.tap.core]\n",
      "INFO: Query finished. [astroquery.utils.tap.core]\n",
      "INFO: Query finished. [astroquery.utils.tap.core]\n",
      "INFO: Query finished. [astroquery.utils.tap.core]\n",
      "INFO: Query finished. [astroquery.utils.tap.core]\n",
      "INFO: Query finished. [astroquery.utils.tap.core]\n",
      "INFO: Query finished. [astroquery.utils.tap.core]\n",
      "INFO: Query finished. [astroquery.utils.tap.core]\n",
      "INFO: Query finished. [astroquery.utils.tap.core]\n",
      "INFO: Query finished. [astroquery.utils.tap.core]\n",
      "INFO: Query finished. [astroquery.utils.tap.core]\n",
      "INFO: Query finished. [astroquery.utils.tap.core]\n",
      "INFO: Query finished. [astroquery.utils.tap.core]\n",
      "INFO: Query finished. [astroquery.utils.tap.core]\n",
      "INFO: Query finished. [astroquery.utils.tap.core]\n",
      "INFO: Query finished. [astroquery.utils.tap.core]\n",
      "INFO: Query finished. [astroquery.utils.tap.core]\n",
      "INFO: Query finished. [astroquery.utils.tap.core]\n",
      "INFO: Query finished. [astroquery.utils.tap.core]\n",
      "INFO: Query finished. [astroquery.utils.tap.core]\n",
      "INFO: Query finished. [astroquery.utils.tap.core]\n",
      "INFO: Query finished. [astroquery.utils.tap.core]\n",
      "INFO: Query finished. [astroquery.utils.tap.core]\n",
      "INFO: Query finished. [astroquery.utils.tap.core]\n",
      "INFO: Query finished. [astroquery.utils.tap.core]\n",
      "INFO: Query finished. [astroquery.utils.tap.core]\n",
      "INFO: Query finished. [astroquery.utils.tap.core]\n",
      "INFO: Query finished. [astroquery.utils.tap.core]\n",
      "                 source_id      g_abs     bp_rp  parallax          dist\n",
      "0      3617017192342536448   1.784220  1.008375 -0.055745  17938.699785\n",
      "1      3617018596796832384   6.863490  1.074068  0.506213   1975.452694\n",
      "2      3617018631156573824   3.209049  0.559883  0.041990  23815.231451\n",
      "3      3617018665516313600   6.567091  1.191080  0.178767   5593.888732\n",
      "4      3617018699876050688   5.460653  1.225519 -0.112048   8924.756404\n",
      "...                    ...        ...       ...       ...           ...\n",
      "53096  4083653736816859904   9.839437  1.926014  1.306413    765.454790\n",
      "53097  4083653741101693824  11.118964  0.918602  1.382380    723.390028\n",
      "53098  4083653741101714944   8.443626  1.249830 -0.478546   2089.662368\n",
      "53099  4083653741101718400  10.676352  0.787714 -1.205045    829.844688\n",
      "53100  4083653741114277120   9.305532  0.930874 -0.728076   1373.483857\n",
      "\n",
      "[52541 rows x 5 columns]\n"
     ]
    }
   ],
   "source": [
    "for i in range(len(v_df.index)):\n",
    "    #query to cone search around given new horizons's position\n",
    "    query = \"\"\"SELECT source_id, phot_g_mean_mag+5*log10(ABS(parallax)/1000)+5 AS g_abs, bp_rp, parallax, abs(1000/parallax) AS dist\n",
    "    FROM gaiaedr3.gaia_source\n",
    "    WHERE 1=CONTAINS(\n",
    "    POINT('ICRS', ra, dec),\n",
    "    CIRCLE('ICRS', \"\"\" + str(v_df['ra'][i]) + \"\"\",\"\"\" + str(v_df['dec'][i]) + \"\"\", 0.035603))\n",
    "    \"\"\"\n",
    "    \n",
    "    results = Gaia.launch_job_async(query).get_results() #results from gaia query\n",
    "    results = results.to_pandas().dropna() #convert to pandas\n",
    "\n",
    "    s_df = pd.concat([s_df, results], ignore_index = True)\n",
    "    \n",
    "s_df = s_df.drop_duplicates(subset=['source_id']) #only keep unique rows\n",
    "print(s_df)"
   ]
  },
  {
   "cell_type": "code",
   "execution_count": 34,
   "metadata": {},
   "outputs": [
    {
     "name": "stdout",
     "output_type": "stream",
     "text": [
      "                 source_id      g_abs     bp_rp   parallax       dist\n",
      "2778   4117066834369677056  16.526166  2.127939 -16.283780  61.410802\n",
      "2801   4117066834499881216  15.114125  2.286634 -12.088056  82.726288\n",
      "5403   4118001281784474880  15.705487  1.962931 -12.410045  80.579884\n",
      "6812   4117232860703242240   0.999717  1.043702  10.199705  98.042048\n",
      "6976   4117232998080843136  16.098714  1.867624  24.823043  40.285150\n",
      "7008   4117232998142091392  15.579579  1.993935 -20.124874  49.689752\n",
      "7901   4117236227900982272  16.818878  1.067900 -18.027410  55.471086\n",
      "8278   4090772769705968640  15.569960  1.995985  11.047357  90.519386\n",
      "19892  4079099387851409664  15.385267  3.895441  10.614394  94.211688\n",
      "27061  4079643856592171008  15.804360  1.584820  19.948736  50.128489\n",
      "32255  4082316116509482752   5.320351  0.979694  10.066591  99.338490\n",
      "41655  4082192524522250368  15.349368  1.021776  11.382359  87.855252\n",
      "45195  4082298936624094720  14.938539  1.098589 -11.418862  87.574403\n",
      "52433  4082930223797532160  10.522338  2.790068  10.721779  93.268103\n"
     ]
    }
   ],
   "source": [
    "s_df.to_csv('nh_stars_3mon.csv') #save stars\n",
    "s_df1 = s_df[s_df['dist'] <= 100]\n",
    "s_df1.to_csv('nh_stars_within100.csv')\n",
    "print(s_df1)"
   ]
  },
  {
   "cell_type": "code",
   "execution_count": 35,
   "metadata": {},
   "outputs": [
    {
     "name": "stderr",
     "output_type": "stream",
     "text": [
      "<ipython-input-35-236878de8521>:9: MatplotlibDeprecationWarning: You are modifying the state of a globally registered colormap. In future versions, you will not be able to modify a registered colormap in-place. To remove this warning, you can make a copy of the colormap first. cmap = copy.copy(mpl.cm.get_cmap(\"hot\"))\n",
      "  color_map.set_bad(color='white') #set color as white for masked values\n"
     ]
    },
    {
     "data": {
      "image/png": "[encoded data removed]",
      "text/plain": [
       "<Figure size 720x720 with 2 Axes>"
      ]
     },
     "metadata": {
      "needs_background": "light"
     },
     "output_type": "display_data"
    }
   ],
   "source": [
    "#build hr diagram\n",
    "histogram, xedges, yedges = np.histogram2d(\n",
    "   s_df['bp_rp'], s_df['g_abs'], bins=100)\n",
    "\n",
    "histogram = np.ma.masked_where(histogram == 0.0, histogram) #map zero values\n",
    "histogram = histogram.T #list bins with common y range\n",
    "\n",
    "color_map = plt.cm.get_cmap(\"hot\") #set colors for diagram\n",
    "color_map.set_bad(color='white') #set color as white for masked values\n",
    "\n",
    "extent = [xedges[0], xedges[-1], yedges[0], yedges[-1]] #bounding box in data\n",
    "\n",
    "#plotting\n",
    "\n",
    "plt.figure(figsize=(10, 10))\n",
    "\n",
    "#plt.savefig('gaia_100_parsecs.png')\n",
    "plt.imshow(np.sqrt(histogram), origin='lower', cmap=color_map,\n",
    "    extent=extent, aspect=(extent[1]-extent[0])/(extent[3]-extent[2])\n",
    "    )\n",
    "\n",
    "plt.colorbar()\n",
    "plt.title(\"Color Magnitude Diagram for Stars Encountered by New Horizons Transmissions\")\n",
    "plt.xlabel('G$_{BP}$ - G$_{RP}$')\n",
    "plt.ylabel('M$_G$')\n",
    "plt.gca().invert_yaxis()\n",
    "plt.savefig('nh_stars_hr.png')"
   ]
  },
  {
   "cell_type": "code",
   "execution_count": 36,
   "metadata": {},
   "outputs": [
    {
     "data": {
      "image/png": "[encoded data removed]",
      "text/plain": [
       "<Figure size 432x288 with 1 Axes>"
      ]
     },
     "metadata": {
      "needs_background": "light"
     },
     "output_type": "display_data"
    }
   ],
   "source": [
    "s_df = pd.read_csv('nh_stars_3mon.csv') #get csv\n",
    "\n",
    "plt.hist(abs(1000/s_df['parallax']), bins = [0, 50, 100, 150, 200, 250, 300, 350, 400]) #plot parallax (mas) converted to distance (pc) in histogram\n",
    "\n",
    "plt.title(\"Distances of Stars Encountered by New Horizons Transmissions\") #labels\n",
    "plt.xlabel(\"Distance (pc)\")\n",
    "plt.ylabel(\"Number of stars\")\n",
    "\n",
    "plt.savefig(\"nh_dist_hist_3mon.png\")\n",
    "plt.show()"
   ]
  }
 ],
 "metadata": {
  "kernelspec": {
   "display_name": "Python 3",
   "language": "python",
   "name": "python3"
  },
  "language_info": {
   "codemirror_mode": {
    "name": "ipython",
    "version": 3
   },
   "file_extension": ".py",
   "mimetype": "text/x-python",
   "name": "python",
   "nbconvert_exporter": "python",
   "pygments_lexer": "ipython3",
   "version": "3.8.5"
  }
 },
 "nbformat": 4,
 "nbformat_minor": 4
}
