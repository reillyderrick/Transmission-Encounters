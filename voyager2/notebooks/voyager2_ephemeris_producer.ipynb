{
 "cells": [
  {
   "cell_type": "code",
   "execution_count": 1,
   "metadata": {},
   "outputs": [],
   "source": [
    "from astroquery.jplhorizons import Horizons\n",
    "import pandas as pd"
   ]
  },
  {
   "cell_type": "code",
   "execution_count": 2,
   "metadata": {},
   "outputs": [
    {
     "name": "stdout",
     "output_type": "stream",
     "text": [
      "Empty DataFrame\n",
      "Columns: [datetime_str, RA, DEC]\n",
      "Index: []\n"
     ]
    }
   ],
   "source": [
    "df = pd.DataFrame(columns = ['datetime_str', 'RA', 'DEC'])\n",
    "print(df)"
   ]
  },
  {
   "cell_type": "code",
   "execution_count": 3,
   "metadata": {},
   "outputs": [
    {
     "name": "stdout",
     "output_type": "stream",
     "text": [
      "                datetime_str         RA       DEC  \\\n",
      "0   1977-Aug-21 00:00:00.000   69.59450  41.46983   \n",
      "1   1977-Aug-21 00:39:06.003   69.75263  41.45946   \n",
      "2   1977-Aug-21 01:24:15.304   69.91004  41.44891   \n",
      "3   1977-Aug-21 02:16:52.734   70.06644  41.43820   \n",
      "4   1977-Aug-21 03:18:55.479   70.22172  41.42733   \n",
      "..                       ...        ...       ...   \n",
      "11  2030-May-24 09:28:29.541  304.51794 -60.27676   \n",
      "12  2030-Jun-17 11:48:20.243  304.33372 -60.37683   \n",
      "13  2030-Jul-09 00:19:09.377  304.10747 -60.44435   \n",
      "14  2030-Jul-29 19:10:19.911  303.86427 -60.48226   \n",
      "15  2030-Aug-20 10:16:47.787  303.61990 -60.48928   \n",
      "\n",
      "                      targetname   datetime_jd solar_presence flags  \n",
      "0   Voyager 2 (spacecraft) (-32)  2.443376e+06                       \n",
      "1   Voyager 2 (spacecraft) (-32)  2.443377e+06                       \n",
      "2   Voyager 2 (spacecraft) (-32)  2.443377e+06                       \n",
      "3   Voyager 2 (spacecraft) (-32)  2.443377e+06                       \n",
      "4   Voyager 2 (spacecraft) (-32)  2.443377e+06                       \n",
      "..                           ...           ...            ...   ...  \n",
      "11  Voyager 2 (spacecraft) (-32)  2.462646e+06                       \n",
      "12  Voyager 2 (spacecraft) (-32)  2.462670e+06                       \n",
      "13  Voyager 2 (spacecraft) (-32)  2.462692e+06                       \n",
      "14  Voyager 2 (spacecraft) (-32)  2.462712e+06                       \n",
      "15  Voyager 2 (spacecraft) (-32)  2.462734e+06                       \n",
      "\n",
      "[3910 rows x 7 columns]\n"
     ]
    }
   ],
   "source": [
    "for i in range(53):\n",
    "    obj = Horizons(id=\"-32\", id_type='majorbody',\n",
    "               epochs={'start':str(1977+i) + '-08-21', 'stop':str(1978+i) + '-08-21',\n",
    "                       'step':'VAR 460'})\n",
    "    \n",
    "    eph = obj.ephemerides(quantities=1)\n",
    "    \n",
    "    df = df.append(eph.to_pandas())\n",
    "\n",
    "print(df)"
   ]
  },
  {
   "cell_type": "code",
   "execution_count": 4,
   "metadata": {},
   "outputs": [],
   "source": [
    "obj = Horizons(id=\"-32\", id_type='majorbody',\n",
    "               epochs={'start':'2030-08-21', 'stop':'2030-12-31',\n",
    "                       'step':'VAR 460'})\n",
    "\n",
    "eph = obj.ephemerides(quantities=1)\n",
    "    \n",
    "df = df.append(eph.to_pandas())"
   ]
  },
  {
   "cell_type": "code",
   "execution_count": 5,
   "metadata": {},
   "outputs": [
    {
     "name": "stdout",
     "output_type": "stream",
     "text": [
      "                        date         ra       dec\n",
      "0   1977-Aug-21 00:00:00.000   69.59450  41.46983\n",
      "1   1977-Aug-21 00:39:06.003   69.75263  41.45946\n",
      "2   1977-Aug-21 01:24:15.304   69.91004  41.44891\n",
      "3   1977-Aug-21 02:16:52.734   70.06644  41.43820\n",
      "4   1977-Aug-21 03:18:55.479   70.22172  41.42733\n",
      "..                       ...        ...       ...\n",
      "0   2030-Aug-21 00:00:00.000  303.61388 -60.48901\n",
      "1   2030-Sep-14 14:12:36.920  303.39226 -60.45649\n",
      "2   2030-Oct-15 10:58:33.566  303.25746 -60.36818\n",
      "3   2030-Nov-20 17:45:19.809  303.35130 -60.23340\n",
      "4   2030-Dec-17 03:44:51.641  303.57749 -60.14532\n",
      "\n",
      "[3915 rows x 3 columns]\n"
     ]
    }
   ],
   "source": [
    "df = df.drop(['targetname', 'datetime_jd', 'solar_presence', 'flags'], axis = 1)\n",
    "df = df.rename(columns={\"datetime_str\": \"date\", \"RA\": \"ra\", \"DEC\": \"dec\"})\n",
    "print(df)"
   ]
  },
  {
   "cell_type": "code",
   "execution_count": 6,
   "metadata": {},
   "outputs": [],
   "source": [
    "df.to_csv('voy2_ephemeris.csv')"
   ]
  }
 ],
 "metadata": {
  "kernelspec": {
   "display_name": "Python 3",
   "language": "python",
   "name": "python3"
  },
  "language_info": {
   "codemirror_mode": {
    "name": "ipython",
    "version": 3
   },
   "file_extension": ".py",
   "mimetype": "text/x-python",
   "name": "python",
   "nbconvert_exporter": "python",
   "pygments_lexer": "ipython3",
   "version": "3.8.5"
  }
 },
 "nbformat": 4,
 "nbformat_minor": 4
}
