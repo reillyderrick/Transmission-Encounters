{
 "cells": [
  {
   "cell_type": "code",
   "execution_count": 7,
   "metadata": {},
   "outputs": [],
   "source": [
    "from astroquery.jplhorizons import Horizons\n",
    "import pandas as pd"
   ]
  },
  {
   "cell_type": "code",
   "execution_count": 8,
   "metadata": {},
   "outputs": [
    {
     "name": "stdout",
     "output_type": "stream",
     "text": [
      "Empty DataFrame\n",
      "Columns: [datetime_str, RA, DEC]\n",
      "Index: []\n"
     ]
    }
   ],
   "source": [
    "df = pd.DataFrame(columns = ['datetime_str', 'RA', 'DEC'])\n",
    "print(df)"
   ]
  },
  {
   "cell_type": "code",
   "execution_count": 9,
   "metadata": {
    "scrolled": true
   },
   "outputs": [
    {
     "name": "stdout",
     "output_type": "stream",
     "text": [
      "                datetime_str         RA       DEC  \\\n",
      "0   1977-Sep-06 00:00:00.000   65.45370  25.53700   \n",
      "1   1977-Sep-06 00:54:28.361   65.58120  25.56217   \n",
      "2   1977-Sep-06 01:58:37.340   65.70809  25.58654   \n",
      "3   1977-Sep-06 03:15:09.775   65.83404  25.61019   \n",
      "4   1977-Sep-06 04:48:02.810   65.95883  25.63326   \n",
      "..                       ...        ...       ...   \n",
      "8   2030-May-09 07:21:32.512  259.40176  12.37592   \n",
      "9   2030-Jun-05 13:34:22.944  259.26927  12.41145   \n",
      "10  2030-Jun-30 16:37:18.398  259.14091  12.41107   \n",
      "11  2030-Jul-27 03:57:18.160  259.02601  12.37668   \n",
      "12  2030-Aug-27 21:34:09.376  258.94769  12.29955   \n",
      "\n",
      "                      targetname   datetime_jd solar_presence flags  \n",
      "0   Voyager 1 (spacecraft) (-31)  2.443392e+06                       \n",
      "1   Voyager 1 (spacecraft) (-31)  2.443393e+06                       \n",
      "2   Voyager 1 (spacecraft) (-31)  2.443393e+06                       \n",
      "3   Voyager 1 (spacecraft) (-31)  2.443393e+06                       \n",
      "4   Voyager 1 (spacecraft) (-31)  2.443393e+06                       \n",
      "..                           ...           ...            ...   ...  \n",
      "8   Voyager 1 (spacecraft) (-31)  2.462631e+06                       \n",
      "9   Voyager 1 (spacecraft) (-31)  2.462658e+06                       \n",
      "10  Voyager 1 (spacecraft) (-31)  2.462683e+06                       \n",
      "11  Voyager 1 (spacecraft) (-31)  2.462710e+06                       \n",
      "12  Voyager 1 (spacecraft) (-31)  2.462741e+06                       \n",
      "\n",
      "[3471 rows x 7 columns]\n"
     ]
    }
   ],
   "source": [
    "for i in range(53):\n",
    "    obj = Horizons(id=\"-31\", id_type='majorbody',\n",
    "               epochs={'start':str(1977+i) + '-09-06', 'stop':str(1978+i) + '-09-06',\n",
    "                       'step':'VAR 460'})\n",
    "    \n",
    "    eph = obj.ephemerides(quantities=1)\n",
    "    \n",
    "    df = df.append(eph.to_pandas())\n",
    "\n",
    "print(df)"
   ]
  },
  {
   "cell_type": "code",
   "execution_count": 10,
   "metadata": {},
   "outputs": [],
   "source": [
    "obj = Horizons(id=\"-31\", id_type='majorbody',\n",
    "               epochs={'start':'2030-09-06', 'stop':'2030-12-31',\n",
    "                       'step':'VAR 460'})\n",
    "\n",
    "eph = obj.ephemerides(quantities=1)\n",
    "    \n",
    "df = df.append(eph.to_pandas())"
   ]
  },
  {
   "cell_type": "code",
   "execution_count": 11,
   "metadata": {},
   "outputs": [
    {
     "name": "stdout",
     "output_type": "stream",
     "text": [
      "                        date         ra       dec\n",
      "0   1977-Sep-06 00:00:00.000   65.45370  25.53700\n",
      "1   1977-Sep-06 00:54:28.361   65.58120  25.56217\n",
      "2   1977-Sep-06 01:58:37.340   65.70809  25.58654\n",
      "3   1977-Sep-06 03:15:09.775   65.83404  25.61019\n",
      "4   1977-Sep-06 04:48:02.810   65.95883  25.63326\n",
      "..                       ...        ...       ...\n",
      "12  2030-Aug-27 21:34:09.376  258.94769  12.29955\n",
      "0   2030-Sep-06 00:00:00.000  258.94077  12.27292\n",
      "1   2030-Oct-18 11:55:33.926  259.00698  12.14737\n",
      "2   2030-Nov-17 17:59:55.550  259.13831  12.08225\n",
      "3   2030-Dec-12 01:22:24.690  259.27106  12.05926\n",
      "\n",
      "[3475 rows x 3 columns]\n"
     ]
    }
   ],
   "source": [
    "df = df.drop(['targetname', 'datetime_jd', 'solar_presence', 'flags'], axis = 1)\n",
    "df = df.rename(columns={\"datetime_str\": \"date\", \"RA\": \"ra\", \"DEC\": \"dec\"})\n",
    "print(df)"
   ]
  },
  {
   "cell_type": "code",
   "execution_count": 12,
   "metadata": {},
   "outputs": [],
   "source": [
    "df.to_csv('voy1_ephemeris.csv')"
   ]
  }
 ],
 "metadata": {
  "kernelspec": {
   "display_name": "Python 3",
   "language": "python",
   "name": "python3"
  },
  "language_info": {
   "codemirror_mode": {
    "name": "ipython",
    "version": 3
   },
   "file_extension": ".py",
   "mimetype": "text/x-python",
   "name": "python",
   "nbconvert_exporter": "python",
   "pygments_lexer": "ipython3",
   "version": "3.8.5"
  }
 },
 "nbformat": 4,
 "nbformat_minor": 4
}
